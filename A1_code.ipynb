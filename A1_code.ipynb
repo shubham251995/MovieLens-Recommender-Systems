{
 "cells": [
  {
   "cell_type": "code",
   "execution_count": 62,
   "source": [
    "import pandas as pd\n",
    "import statistics\n",
    "import numpy as np\n",
    "from io import StringIO\n",
    "import numpy.linalg as lin\n",
    "import matplotlib.pyplot as plt\n",
    "import scipy.sparse\n",
    "from scipy.sparse.linalg import svds\n",
    "import random\n",
    "import sys\n",
    "import time\n",
    "from pandas import Series\n",
    "from math import pow\n",
    "import matplotlib.pyplot as plt\n",
    "from collections import defaultdict\n",
    "from sklearn.linear_model import LinearRegression\n",
    "from sklearn.model_selection import train_test_split\n",
    "from sklearn.datasets import make_classification\n",
    "from sklearn.model_selection import KFold\n",
    "from sklearn.metrics import mean_squared_error\n",
    "from sklearn.metrics import mean_absolute_error"
   ],
   "outputs": [],
   "metadata": {}
  },
  {
   "cell_type": "markdown",
   "source": [
    "# Task 1: Naive Approaches"
   ],
   "metadata": {}
  },
  {
   "cell_type": "markdown",
   "source": [
    "### Import Data"
   ],
   "metadata": {}
  },
  {
   "cell_type": "code",
   "execution_count": 63,
   "source": [
    "movies = pd.read_table('ml-1m/movies.dat',\n",
    "                   header=None, \n",
    "                   encoding= 'ISO-8859-1',\n",
    "                   engine='python', \n",
    "                   sep = '::')\n",
    "movies.columns = ['MovieID','Title','Genres']"
   ],
   "outputs": [],
   "metadata": {}
  },
  {
   "cell_type": "code",
   "execution_count": 64,
   "source": [
    "movies.head()"
   ],
   "outputs": [
    {
     "output_type": "execute_result",
     "data": {
      "text/html": [
       "<div>\n",
       "<style scoped>\n",
       "    .dataframe tbody tr th:only-of-type {\n",
       "        vertical-align: middle;\n",
       "    }\n",
       "\n",
       "    .dataframe tbody tr th {\n",
       "        vertical-align: top;\n",
       "    }\n",
       "\n",
       "    .dataframe thead th {\n",
       "        text-align: right;\n",
       "    }\n",
       "</style>\n",
       "<table border=\"1\" class=\"dataframe\">\n",
       "  <thead>\n",
       "    <tr style=\"text-align: right;\">\n",
       "      <th></th>\n",
       "      <th>MovieID</th>\n",
       "      <th>Title</th>\n",
       "      <th>Genres</th>\n",
       "    </tr>\n",
       "  </thead>\n",
       "  <tbody>\n",
       "    <tr>\n",
       "      <th>0</th>\n",
       "      <td>1</td>\n",
       "      <td>Toy Story (1995)</td>\n",
       "      <td>Animation|Children's|Comedy</td>\n",
       "    </tr>\n",
       "    <tr>\n",
       "      <th>1</th>\n",
       "      <td>2</td>\n",
       "      <td>Jumanji (1995)</td>\n",
       "      <td>Adventure|Children's|Fantasy</td>\n",
       "    </tr>\n",
       "    <tr>\n",
       "      <th>2</th>\n",
       "      <td>3</td>\n",
       "      <td>Grumpier Old Men (1995)</td>\n",
       "      <td>Comedy|Romance</td>\n",
       "    </tr>\n",
       "    <tr>\n",
       "      <th>3</th>\n",
       "      <td>4</td>\n",
       "      <td>Waiting to Exhale (1995)</td>\n",
       "      <td>Comedy|Drama</td>\n",
       "    </tr>\n",
       "    <tr>\n",
       "      <th>4</th>\n",
       "      <td>5</td>\n",
       "      <td>Father of the Bride Part II (1995)</td>\n",
       "      <td>Comedy</td>\n",
       "    </tr>\n",
       "  </tbody>\n",
       "</table>\n",
       "</div>"
      ],
      "text/plain": [
       "   MovieID                               Title                        Genres\n",
       "0        1                    Toy Story (1995)   Animation|Children's|Comedy\n",
       "1        2                      Jumanji (1995)  Adventure|Children's|Fantasy\n",
       "2        3             Grumpier Old Men (1995)                Comedy|Romance\n",
       "3        4            Waiting to Exhale (1995)                  Comedy|Drama\n",
       "4        5  Father of the Bride Part II (1995)                        Comedy"
      ]
     },
     "metadata": {},
     "execution_count": 64
    }
   ],
   "metadata": {
    "scrolled": true
   }
  },
  {
   "cell_type": "code",
   "execution_count": 65,
   "source": [
    "ratings = pd.read_table('ml-1m/ratings.dat',\n",
    "                   header=None, \n",
    "                   encoding= 'ISO-8859-1',\n",
    "                   engine='python', \n",
    "                   sep = '::')\n",
    "ratings.columns = ['UserID','MovieID','Rating','Timestamp']"
   ],
   "outputs": [],
   "metadata": {}
  },
  {
   "cell_type": "code",
   "execution_count": 66,
   "source": [
    "ratings.head()"
   ],
   "outputs": [
    {
     "output_type": "execute_result",
     "data": {
      "text/html": [
       "<div>\n",
       "<style scoped>\n",
       "    .dataframe tbody tr th:only-of-type {\n",
       "        vertical-align: middle;\n",
       "    }\n",
       "\n",
       "    .dataframe tbody tr th {\n",
       "        vertical-align: top;\n",
       "    }\n",
       "\n",
       "    .dataframe thead th {\n",
       "        text-align: right;\n",
       "    }\n",
       "</style>\n",
       "<table border=\"1\" class=\"dataframe\">\n",
       "  <thead>\n",
       "    <tr style=\"text-align: right;\">\n",
       "      <th></th>\n",
       "      <th>UserID</th>\n",
       "      <th>MovieID</th>\n",
       "      <th>Rating</th>\n",
       "      <th>Timestamp</th>\n",
       "    </tr>\n",
       "  </thead>\n",
       "  <tbody>\n",
       "    <tr>\n",
       "      <th>0</th>\n",
       "      <td>1</td>\n",
       "      <td>1193</td>\n",
       "      <td>5</td>\n",
       "      <td>978300760</td>\n",
       "    </tr>\n",
       "    <tr>\n",
       "      <th>1</th>\n",
       "      <td>1</td>\n",
       "      <td>661</td>\n",
       "      <td>3</td>\n",
       "      <td>978302109</td>\n",
       "    </tr>\n",
       "    <tr>\n",
       "      <th>2</th>\n",
       "      <td>1</td>\n",
       "      <td>914</td>\n",
       "      <td>3</td>\n",
       "      <td>978301968</td>\n",
       "    </tr>\n",
       "    <tr>\n",
       "      <th>3</th>\n",
       "      <td>1</td>\n",
       "      <td>3408</td>\n",
       "      <td>4</td>\n",
       "      <td>978300275</td>\n",
       "    </tr>\n",
       "    <tr>\n",
       "      <th>4</th>\n",
       "      <td>1</td>\n",
       "      <td>2355</td>\n",
       "      <td>5</td>\n",
       "      <td>978824291</td>\n",
       "    </tr>\n",
       "  </tbody>\n",
       "</table>\n",
       "</div>"
      ],
      "text/plain": [
       "   UserID  MovieID  Rating  Timestamp\n",
       "0       1     1193       5  978300760\n",
       "1       1      661       3  978302109\n",
       "2       1      914       3  978301968\n",
       "3       1     3408       4  978300275\n",
       "4       1     2355       5  978824291"
      ]
     },
     "metadata": {},
     "execution_count": 66
    }
   ],
   "metadata": {}
  },
  {
   "cell_type": "code",
   "execution_count": 67,
   "source": [
    "users = pd.read_table('ml-1m/users.dat',\n",
    "                   header=None, \n",
    "                   encoding= 'ISO-8859-1',\n",
    "                   engine='python', \n",
    "                   sep = '::')\n",
    "users.columns = ['UserID','Gender','Age','Occupation','Zip-code']"
   ],
   "outputs": [],
   "metadata": {}
  },
  {
   "cell_type": "code",
   "execution_count": 68,
   "source": [
    "users.head()"
   ],
   "outputs": [
    {
     "output_type": "execute_result",
     "data": {
      "text/html": [
       "<div>\n",
       "<style scoped>\n",
       "    .dataframe tbody tr th:only-of-type {\n",
       "        vertical-align: middle;\n",
       "    }\n",
       "\n",
       "    .dataframe tbody tr th {\n",
       "        vertical-align: top;\n",
       "    }\n",
       "\n",
       "    .dataframe thead th {\n",
       "        text-align: right;\n",
       "    }\n",
       "</style>\n",
       "<table border=\"1\" class=\"dataframe\">\n",
       "  <thead>\n",
       "    <tr style=\"text-align: right;\">\n",
       "      <th></th>\n",
       "      <th>UserID</th>\n",
       "      <th>Gender</th>\n",
       "      <th>Age</th>\n",
       "      <th>Occupation</th>\n",
       "      <th>Zip-code</th>\n",
       "    </tr>\n",
       "  </thead>\n",
       "  <tbody>\n",
       "    <tr>\n",
       "      <th>0</th>\n",
       "      <td>1</td>\n",
       "      <td>F</td>\n",
       "      <td>1</td>\n",
       "      <td>10</td>\n",
       "      <td>48067</td>\n",
       "    </tr>\n",
       "    <tr>\n",
       "      <th>1</th>\n",
       "      <td>2</td>\n",
       "      <td>M</td>\n",
       "      <td>56</td>\n",
       "      <td>16</td>\n",
       "      <td>70072</td>\n",
       "    </tr>\n",
       "    <tr>\n",
       "      <th>2</th>\n",
       "      <td>3</td>\n",
       "      <td>M</td>\n",
       "      <td>25</td>\n",
       "      <td>15</td>\n",
       "      <td>55117</td>\n",
       "    </tr>\n",
       "    <tr>\n",
       "      <th>3</th>\n",
       "      <td>4</td>\n",
       "      <td>M</td>\n",
       "      <td>45</td>\n",
       "      <td>7</td>\n",
       "      <td>02460</td>\n",
       "    </tr>\n",
       "    <tr>\n",
       "      <th>4</th>\n",
       "      <td>5</td>\n",
       "      <td>M</td>\n",
       "      <td>25</td>\n",
       "      <td>20</td>\n",
       "      <td>55455</td>\n",
       "    </tr>\n",
       "  </tbody>\n",
       "</table>\n",
       "</div>"
      ],
      "text/plain": [
       "   UserID Gender  Age  Occupation Zip-code\n",
       "0       1      F    1          10    48067\n",
       "1       2      M   56          16    70072\n",
       "2       3      M   25          15    55117\n",
       "3       4      M   45           7    02460\n",
       "4       5      M   25          20    55455"
      ]
     },
     "metadata": {},
     "execution_count": 68
    }
   ],
   "metadata": {}
  },
  {
   "cell_type": "markdown",
   "source": [
    "### Calculating the 5 formulas from slide  17: \n",
    "R_global(User, Item)=mean(all ratings)\n",
    "\n",
    "R_item(User, Item)=mean(all ratings for Item)\n",
    "\n",
    "R_user(User, Item)=mean(all ratings for User)"
   ],
   "metadata": {}
  },
  {
   "cell_type": "code",
   "execution_count": 69,
   "source": [
    "#R_global i.e. the mean of all ratings\n",
    "R_global = ratings['Rating'].mean()"
   ],
   "outputs": [],
   "metadata": {}
  },
  {
   "cell_type": "code",
   "execution_count": 70,
   "source": [
    "#R_user i.e. the mean of all ratings per user\n",
    "R_user = ratings.groupby(['UserID'])['Rating'].mean()"
   ],
   "outputs": [],
   "metadata": {}
  },
  {
   "cell_type": "code",
   "execution_count": 71,
   "source": [
    "#R_item i.e. the mean of all ratings per movie\n",
    "R_movie = ratings.groupby(['MovieID'])['Rating'].mean()"
   ],
   "outputs": [],
   "metadata": {}
  },
  {
   "cell_type": "code",
   "execution_count": 72,
   "source": [
    "R = pd.merge(ratings,R_user,on='UserID')\n",
    "R = pd.merge(R,R_movie, on='MovieID')\n",
    "R = R[['Rating_x','Rating_y', 'Rating', 'MovieID', 'UserID']]\n",
    "R = R.rename(columns={\"Rating_x\": \"Rating\", \"Rating_y\": \"R_user\", \"Rating\": \"R_movie\"})\n",
    "R.head()"
   ],
   "outputs": [
    {
     "output_type": "execute_result",
     "data": {
      "text/html": [
       "<div>\n",
       "<style scoped>\n",
       "    .dataframe tbody tr th:only-of-type {\n",
       "        vertical-align: middle;\n",
       "    }\n",
       "\n",
       "    .dataframe tbody tr th {\n",
       "        vertical-align: top;\n",
       "    }\n",
       "\n",
       "    .dataframe thead th {\n",
       "        text-align: right;\n",
       "    }\n",
       "</style>\n",
       "<table border=\"1\" class=\"dataframe\">\n",
       "  <thead>\n",
       "    <tr style=\"text-align: right;\">\n",
       "      <th></th>\n",
       "      <th>Rating</th>\n",
       "      <th>R_user</th>\n",
       "      <th>R_movie</th>\n",
       "      <th>MovieID</th>\n",
       "      <th>UserID</th>\n",
       "    </tr>\n",
       "  </thead>\n",
       "  <tbody>\n",
       "    <tr>\n",
       "      <th>0</th>\n",
       "      <td>5</td>\n",
       "      <td>4.188679</td>\n",
       "      <td>4.390725</td>\n",
       "      <td>1193</td>\n",
       "      <td>1</td>\n",
       "    </tr>\n",
       "    <tr>\n",
       "      <th>1</th>\n",
       "      <td>5</td>\n",
       "      <td>3.713178</td>\n",
       "      <td>4.390725</td>\n",
       "      <td>1193</td>\n",
       "      <td>2</td>\n",
       "    </tr>\n",
       "    <tr>\n",
       "      <th>2</th>\n",
       "      <td>4</td>\n",
       "      <td>3.826087</td>\n",
       "      <td>4.390725</td>\n",
       "      <td>1193</td>\n",
       "      <td>12</td>\n",
       "    </tr>\n",
       "    <tr>\n",
       "      <th>3</th>\n",
       "      <td>4</td>\n",
       "      <td>3.323383</td>\n",
       "      <td>4.390725</td>\n",
       "      <td>1193</td>\n",
       "      <td>15</td>\n",
       "    </tr>\n",
       "    <tr>\n",
       "      <th>4</th>\n",
       "      <td>5</td>\n",
       "      <td>4.075829</td>\n",
       "      <td>4.390725</td>\n",
       "      <td>1193</td>\n",
       "      <td>17</td>\n",
       "    </tr>\n",
       "  </tbody>\n",
       "</table>\n",
       "</div>"
      ],
      "text/plain": [
       "   Rating    R_user   R_movie  MovieID  UserID\n",
       "0       5  4.188679  4.390725     1193       1\n",
       "1       5  3.713178  4.390725     1193       2\n",
       "2       4  3.826087  4.390725     1193      12\n",
       "3       4  3.323383  4.390725     1193      15\n",
       "4       5  4.075829  4.390725     1193      17"
      ]
     },
     "metadata": {},
     "execution_count": 72
    }
   ],
   "metadata": {}
  },
  {
   "cell_type": "markdown",
   "source": [
    "### 5-fold Cross Validation "
   ],
   "metadata": {}
  },
  {
   "cell_type": "markdown",
   "source": [
    "#### For R_global"
   ],
   "metadata": {}
  },
  {
   "cell_type": "code",
   "execution_count": 73,
   "source": [
    "random.seed(123)\n",
    "kf5 = KFold(n_splits=5, shuffle=True)\n",
    "y = ratings[\"Rating\"]\n",
    "\n",
    "\n",
    "RMSE_list = []\n",
    "MAE_list = []\n",
    "\n",
    "\n",
    "for train_index, test_index in kf5.split(ratings):\n",
    "    #print(\"TRAIN:\", train_index, \"TEST:\", test_index)\n",
    "    y_tst = y[test_index]\n",
    "    R_global = ratings.iloc[train_index]['Rating'].mean()\n",
    "    X_global = np.full(len(y_tst), R_global)\n",
    "    RMSE_list.append(mean_squared_error(X_global, y_tst, squared=False))\n",
    "    MAE_list.append(mean_absolute_error(X_global, y_tst))\n",
    "    \n",
    "    \n",
    "print(RMSE_list)\n",
    "print(MAE_list)\n",
    "\n",
    "print(\"Average RMSE over the 5 splits:\", statistics.mean(RMSE_list))\n",
    "print(\"Average MAE over the 5 splits:\", statistics.mean(MAE_list))"
   ],
   "outputs": [
    {
     "output_type": "stream",
     "name": "stdout",
     "text": [
      "[1.1179186657505382, 1.1169571541967311, 1.1164811584703562, 1.1165766550458018, 1.1175860868686842]\n",
      "[0.9350448623301201, 0.9336287710304297, 0.9334056641662095, 0.9328779368001785, 0.9343568646146218]\n",
      "Average RMSE over the 5 splits: 1.1171039440664223\n",
      "Average MAE over the 5 splits: 0.9338628197883119\n"
     ]
    }
   ],
   "metadata": {
    "scrolled": true
   }
  },
  {
   "cell_type": "markdown",
   "source": [
    "#### For R_movie"
   ],
   "metadata": {}
  },
  {
   "cell_type": "code",
   "execution_count": 74,
   "source": [
    "random.seed(123)\n",
    "kf5 = KFold(n_splits=5, shuffle=True)\n",
    "\n",
    "\n",
    "RMSE_list = []\n",
    "MAE_list = []\n",
    "\n",
    "\n",
    "for train_index, test_index in kf5.split(ratings):\n",
    "    tr = ratings.iloc[train_index]\n",
    "    tst = ratings.iloc[test_index]\n",
    "    R_global = ratings.iloc[train_index]['Rating'].mean()\n",
    "    R_movie = tr.groupby('MovieID')['Rating'].mean()\n",
    "    R_movie = pd.merge(tst, R_movie, how='left', on='MovieID')\n",
    "    R_movie = R_movie.fillna(R_global)\n",
    "    \n",
    "\n",
    "      \n",
    "    RMSE_list.append(mean_squared_error(R_movie['Rating_x'], R_movie['Rating_y'], squared=False))\n",
    "    MAE_list.append(mean_absolute_error(R_movie['Rating_x'],  R_movie['Rating_y']))\n",
    "    \n",
    "    \n",
    "print(RMSE_list)\n",
    "print(MAE_list)\n",
    "\n",
    "print(\"Average RMSE over the 5 splits:\", statistics.mean(RMSE_list))\n",
    "print(\"Average MAE over the 5 splits:\", statistics.mean(MAE_list))"
   ],
   "outputs": [
    {
     "output_type": "stream",
     "name": "stdout",
     "text": [
      "[0.9831783587582448, 0.9777055268250058, 0.979383745379347, 0.978704600138562, 0.9785350342388109]\n",
      "[0.7853112767520519, 0.7811362146640797, 0.7823110828330951, 0.7814558722648273, 0.7818258749033196]\n",
      "Average RMSE over the 5 splits: 0.9795014530679941\n",
      "Average MAE over the 5 splits: 0.7824080642834748\n"
     ]
    }
   ],
   "metadata": {}
  },
  {
   "cell_type": "markdown",
   "source": [
    "#### For R_user"
   ],
   "metadata": {}
  },
  {
   "cell_type": "code",
   "execution_count": 75,
   "source": [
    "random.seed(123)\n",
    "kf5 = KFold(n_splits=5, shuffle=True)\n",
    "\n",
    "\n",
    "RMSE_list = []\n",
    "MAE_list = []\n",
    "\n",
    "\n",
    "for train_index, test_index in kf5.split(ratings):\n",
    "    tr = ratings.iloc[train_index]\n",
    "    tst = ratings.iloc[test_index]\n",
    "    R_global = ratings.iloc[train_index]['Rating'].mean()\n",
    "    R_user = tr.groupby('UserID')['Rating'].mean()\n",
    "    R_user = pd.merge(tst, R_user, how='left', on='UserID')\n",
    "    R_user = R_user.fillna(R_global)\n",
    "      \n",
    "    RMSE_list.append(mean_squared_error(R_user['Rating_x'], R_user['Rating_y'], squared=False))\n",
    "    MAE_list.append(mean_absolute_error(R_user['Rating_x'],  R_user['Rating_y']))\n",
    "    \n",
    "    \n",
    "print(RMSE_list)\n",
    "print(MAE_list)\n",
    "\n",
    "print(\"Average RMSE over the 5 splits:\", statistics.mean(RMSE_list))\n",
    "print(\"Average MAE over the 5 splits:\", statistics.mean(MAE_list))"
   ],
   "outputs": [
    {
     "output_type": "stream",
     "name": "stdout",
     "text": [
      "[1.0341540530512852, 1.0366831836316819, 1.0367548911084858, 1.0351620226366867, 1.0342310841258635]\n",
      "[0.8278011687890378, 0.8295052568118579, 0.8307004050630244, 0.8290178974894602, 0.8275930787817327]\n",
      "Average RMSE over the 5 splits: 1.0353970469108007\n",
      "Average MAE over the 5 splits: 0.8289235613870226\n"
     ]
    }
   ],
   "metadata": {}
  },
  {
   "cell_type": "markdown",
   "source": [
    "#### 5-fold Cross Validation - for linear regression"
   ],
   "metadata": {}
  },
  {
   "cell_type": "code",
   "execution_count": 76,
   "source": [
    "random.seed(123)\n",
    "kf5 = KFold(n_splits=5, shuffle=True)\n",
    "X = R[['R_user', 'R_movie']].to_numpy()\n",
    "y = np.array(list(R['Rating']))\n",
    "\n",
    "Index = []\n",
    "X_train = []\n",
    "X_test = []\n",
    "y_train = []\n",
    "y_test = []\n",
    "\n",
    "for train_index, test_index in kf5.split(X):\n",
    "    Index.append((\"TRAIN:\", train_index, \"TEST:\", test_index))\n",
    "    X_tr, X_tst = X[train_index], X[test_index]\n",
    "    y_tr, y_tst = y[train_index], y[test_index]\n",
    "    X_train.append(X_tr)\n",
    "    X_test.append(X_tst)\n",
    "    y_train.append(y_tr)\n",
    "    y_test.append(y_tst)"
   ],
   "outputs": [],
   "metadata": {}
  },
  {
   "cell_type": "markdown",
   "source": [
    "#### Linear Regression without gamma"
   ],
   "metadata": {}
  },
  {
   "cell_type": "code",
   "execution_count": 77,
   "source": [
    "RMSE_list = []\n",
    "coefficients = []\n",
    "MAE_list = []\n",
    "for i in range(0,5):\n",
    "    regressor = LinearRegression(fit_intercept=False)\n",
    "    model = regressor.fit(X_train[i], y_train[i])\n",
    "    y_predicted = regressor.predict(X_test[i])\n",
    "    RMSE = mean_squared_error(y_test[i], y_predicted, squared=False)\n",
    "    RMSE_list.append(RMSE)\n",
    "    MAE_list.append(mean_absolute_error(y_test[i], y_predicted))\n",
    "    coefficients.append([model.coef_])\n",
    "print(\"RMSE:\", statistics.mean(RMSE_list))\n",
    "print(\"Alpha, Beta:\", coefficients)\n",
    "print(\"MAE:\", statistics.mean(MAE_list))"
   ],
   "outputs": [
    {
     "output_type": "stream",
     "name": "stdout",
     "text": [
      "RMSE: 0.9473800934567167\n",
      "Alpha, Beta: [[array([0.36638847, 0.64072531])], [array([0.36777684, 0.63929526])], [array([0.36801483, 0.63896155])], [array([0.36816123, 0.63870314])], [array([0.36797364, 0.63908854])]]\n",
      "MAE: 0.7592216393240905\n"
     ]
    }
   ],
   "metadata": {}
  },
  {
   "cell_type": "markdown",
   "source": [
    "#### Linear Regression with gamma"
   ],
   "metadata": {}
  },
  {
   "cell_type": "code",
   "execution_count": 78,
   "source": [
    "RMSE_list = []\n",
    "coefficients = []\n",
    "gamma = []\n",
    "MAE_list = []\n",
    "for i in range(0,5):\n",
    "    regressor = LinearRegression(fit_intercept=True)\n",
    "    model = regressor.fit(X_train[i], y_train[i])\n",
    "    y_predicted = regressor.predict(X_test[i])\n",
    "    RMSE = mean_squared_error(y_test[i], y_predicted, squared=False)\n",
    "    RMSE_list.append(RMSE)\n",
    "    MAE_list.append(mean_absolute_error(y_test[i], y_predicted))\n",
    "    coefficients.append([model.coef_])\n",
    "    gamma.append(model.intercept_)\n",
    "print(\"RMSE:\", statistics.mean(RMSE_list))\n",
    "print(\"Alpha, Beta:\",coefficients)\n",
    "print(\"Gamma:\",gamma)\n",
    "print(\"MAE:\", statistics.mean(MAE_list))"
   ],
   "outputs": [
    {
     "output_type": "stream",
     "name": "stdout",
     "text": [
      "RMSE: 0.9155921038075315\n",
      "Alpha, Beta: [[array([0.78078827, 0.87736718])], [array([0.78235655, 0.87547122])], [array([0.78370875, 0.87621962])], [array([0.78203965, 0.87447233])], [array([0.78174993, 0.87517107])]]\n",
      "Gamma: [-2.356941390319213, -2.3559225808808737, -2.363749170876681, -2.3519232294198886, -2.3524632219328985]\n",
      "MAE: 0.7258558382684496\n"
     ]
    }
   ],
   "metadata": {}
  },
  {
   "cell_type": "markdown",
   "source": [
    "# Task 2: UV Matrix"
   ],
   "metadata": {}
  },
  {
   "cell_type": "code",
   "execution_count": 80,
   "source": [
    "random.seed(123)\n",
    "\n",
    "ratings = pd.read_csv('ml-1m/ratings.dat', engine='python', sep='::', names=['user_id', 'movie_id', 'rating', 'timestamp'])\n",
    "X = ratings.copy()\n",
    "kf = KFold(n_splits=5, shuffle=True)\n",
    "d = 2\n",
    "l_r = 0.5\n",
    "iterations = 10\n",
    "\n",
    "for train_index, test_index in kf.split(X):\n",
    "    X_train, X_test = X.loc[train_index], X.loc[test_index]\n",
    "    R_df = X_train.pivot(index = 'user_id', columns ='movie_id', values = 'rating')\n",
    "    user_mean = R_df.mean(axis=1)\n",
    "    R_df_array = R_df.to_numpy()\n",
    "    user_mean = user_mean.to_numpy()\n",
    "    normalized = R_df_array - user_mean.reshape(-1,1)\n",
    "    M = normalized.copy()\n",
    "    u = np.full((normalized.shape[0],2), 1)\n",
    "    v = np.full((2,normalized.shape[1]), 1)\n",
    "    u = u.astype(np.float32)\n",
    "    v = v.astype(np.float32)\n",
    "    uv = np.dot(u,v)\n",
    "    print(\"TRAIN:\", train_index, \"TEST:\", test_index)\n",
    "    for iteration in range(iterations):\n",
    "        for r in range(6040):\n",
    "            for s in range(d):\n",
    "                sums = 0\n",
    "                u_rk = u[r,:]\n",
    "                v_kj = v[:,:]\n",
    "                u_rk_del = np.delete(u_rk, s, 0)\n",
    "                v_kj_del = np.delete(v_kj, s, 0)\n",
    "                v_sj = v[s,:]\n",
    "                v_sj_squared = v_sj ** 2\n",
    "\n",
    "                u_rk_v_kj = np.dot(u_rk_del, v_kj_del)\n",
    "                m_rj = M[r,:]\n",
    "\n",
    "                error = m_rj - u_rk_v_kj\n",
    "\n",
    "                vsj_dot_er = v_sj * error\n",
    "                sums = np.nansum(vsj_dot_er)\n",
    "                v_sj_ssum = np.nansum((v_sj_squared) * (~np.isnan(m_rj)))\n",
    "                newval_u = sums / v_sj_ssum\n",
    "                u[r,s] = u[r,s] + ((newval_u - u[r,s]))\n",
    "        #update v \n",
    "        for r in range(d):\n",
    "            for s in range(R_df_array.shape[1]):\n",
    "                sums = 0\n",
    "                #sumvsj_2 = 0\n",
    "\n",
    "                u_ik = u[:,:]\n",
    "                v_ks = v[:,s]\n",
    "                u_ik_del = np.delete(u_ik, r, 1)\n",
    "\n",
    "                v_ks_del = np.delete(v_ks, r, 0)\n",
    "                u_ir = u[:,r]\n",
    "                u_ir_squared = u_ir ** 2\n",
    "\n",
    "                u_ik_v_ks = np.dot(u_ik_del, v_ks_del)\n",
    "                m_is = M[:,s]\n",
    "                error = m_is - u_ik_v_ks\n",
    "\n",
    "                uir_dot_er = u_ir * error\n",
    "                sumsv = np.nansum(uir_dot_er)\n",
    "                u_ir_ssum = np.nansum(u_ir_squared * (~np.isnan(m_is)))\n",
    "                newval_v = sumsv / u_ir_ssum\n",
    "                v[r,s] = v[r,s] + ((newval_v - v[r,s]))\n",
    "\n",
    "        uv = np.dot(u,v)\n",
    "        difference = uv - normalized\n",
    "        difference_squared = difference ** 2\n",
    "        difference_squared_with_0s = np.nan_to_num(difference_squared)\n",
    "        difference_squared_sum = np.sum(difference_squared_with_0s,axis=0)\n",
    "        sum_sum = difference_squared_sum.sum()\n",
    "        non_zero_count = np.count_nonzero(difference_squared_with_0s)\n",
    "        RMSE = sum_sum / non_zero_count\n",
    "        print(\"Iteration: \", iteration)\n",
    "        print(RMSE)\n"
   ],
   "outputs": [
    {
     "output_type": "stream",
     "name": "stdout",
     "text": [
      "TRAIN: [      0       1       2 ... 1000206 1000207 1000208] TEST: [      3      11      12 ... 1000168 1000199 1000205]\n",
      "Iteration:  0\n",
      "0.8422958972689429\n",
      "Iteration:  1\n",
      "0.7948269794696434\n",
      "Iteration:  2\n",
      "0.7847370130482627\n",
      "Iteration:  3\n",
      "0.7781739188502861\n",
      "Iteration:  4\n",
      "0.7734944361010938\n",
      "Iteration:  5\n",
      "0.770166485209555\n",
      "Iteration:  6\n",
      "0.7677691005312302\n",
      "Iteration:  7\n",
      "0.7659928398046777\n",
      "Iteration:  8\n",
      "0.7646397131547209\n",
      "Iteration:  9\n",
      "0.7635722366023221\n",
      "TRAIN: [      1       2       3 ... 1000204 1000205 1000208] TEST: [      0      16      21 ... 1000197 1000206 1000207]\n",
      "Iteration:  0\n",
      "0.8439388795777046\n",
      "Iteration:  1\n",
      "0.796318876325698\n",
      "Iteration:  2\n",
      "0.78608344721233\n",
      "Iteration:  3\n",
      "0.779437060667424\n",
      "Iteration:  4\n",
      "0.7747075290156327\n",
      "Iteration:  5\n",
      "0.7713388188424871\n",
      "Iteration:  6\n",
      "0.7689151591210315\n",
      "Iteration:  7\n",
      "0.7671237449321173\n",
      "Iteration:  8\n",
      "0.7657555838924036\n",
      "Iteration:  9\n",
      "0.7646828005483265\n",
      "TRAIN: [      0       1       2 ... 1000205 1000206 1000207] TEST: [      4      15      17 ... 1000200 1000204 1000208]\n",
      "Iteration:  0\n",
      "0.8437283042723907\n",
      "Iteration:  1\n",
      "0.7960167115569069\n",
      "Iteration:  2\n",
      "0.7857479448408271\n",
      "Iteration:  3\n",
      "0.7791058325037651\n",
      "Iteration:  4\n",
      "0.7743990057737529\n",
      "Iteration:  5\n",
      "0.7710624402691241\n",
      "Iteration:  6\n",
      "0.7686704333278752\n",
      "Iteration:  7\n",
      "0.7669031216688937\n",
      "Iteration:  8\n",
      "0.7655627308007457\n",
      "Iteration:  9\n",
      "0.7645095179330387\n",
      "TRAIN: [      0       3       4 ... 1000206 1000207 1000208] TEST: [      1       2       6 ... 1000189 1000201 1000202]\n",
      "Iteration:  0\n",
      "0.8434353305542278\n",
      "Iteration:  1\n",
      "0.7958006085383957\n",
      "Iteration:  2\n",
      "0.7855370934742522\n",
      "Iteration:  3\n",
      "0.7788861418120635\n",
      "Iteration:  4\n",
      "0.7741624286444326\n",
      "Iteration:  5\n",
      "0.7708040319875459\n",
      "Iteration:  6\n",
      "0.7683931499827175\n",
      "Iteration:  7\n",
      "0.7666089566426839\n",
      "Iteration:  8\n",
      "0.7652502211629915\n",
      "Iteration:  9\n",
      "0.7641809372665008\n",
      "TRAIN: [      0       1       2 ... 1000206 1000207 1000208] TEST: [      5      36      42 ... 1000193 1000198 1000203]\n",
      "Iteration:  0\n",
      "0.8424188066820261\n",
      "Iteration:  1\n",
      "0.794815804797959\n",
      "Iteration:  2\n",
      "0.7845624444181339\n",
      "Iteration:  3\n",
      "0.7779192739297572\n",
      "Iteration:  4\n",
      "0.7731900156499701\n",
      "Iteration:  5\n",
      "0.7698169234948179\n",
      "Iteration:  6\n",
      "0.7673805231448947\n",
      "Iteration:  7\n",
      "0.7655785529773983\n",
      "Iteration:  8\n",
      "0.7641962720858264\n",
      "Iteration:  9\n",
      "0.7631094259627681\n"
     ]
    }
   ],
   "metadata": {
    "scrolled": true
   }
  },
  {
   "cell_type": "markdown",
   "source": [
    "# Task 3:  Matrix Factorization with Gradient Descent and Regularization"
   ],
   "metadata": {}
  },
  {
   "cell_type": "markdown",
   "source": [
    "------------------------------------------------------------------------------------"
   ],
   "metadata": {}
  },
  {
   "cell_type": "code",
   "execution_count": 81,
   "source": [
    "random.seed(123)\n",
    "def matrixFactorization(X, U, M, K, num_iter = 75, learn_rate=0.005, regularization=0.05):\n",
    "    print('---Executing Matrix Factorization---')\n",
    "    # transpose the M matrix\n",
    "    M = M.T\n",
    "    result = []\n",
    "    count = 0\n",
    "    for step in range(num_iter):\n",
    "        print('---the {} times iteration---'.format(count))\n",
    "        count = count + 1\n",
    "        for i in range(len(X)):\n",
    "             for j in range(len(X[i])):\n",
    "                    if X[i][j] > 0:\n",
    "                    # calculate the training error on the (i,j) example\n",
    "                        eij = X[i][j]-np.dot(U[i,:], M[:,j])\n",
    "                    # use regularization to avoid large weights\n",
    "                        for k in range(K):\n",
    "                            U[i][k] = U[i][k] + learn_rate * (2 * eij * M[k][j] - regularization * U[i][k])\n",
    "                            M[k][j] = M[k][j] + learn_rate * (2 * eij * U[i][k] - regularization * M[k][j])\n",
    "        eR = np.dot(U,M)\n",
    "        se = 0\n",
    "        # calulate the total squared error (with regularization)\n",
    "        for i in range(len(X)):\n",
    "             for j in range(len(X[i])):\n",
    "                    if X[i][j] > 0:\n",
    "                        se = se + pow(X[i][j] - np.dot(U[i,:],M[:,j]),2)\n",
    "                     # consider the regularization to avoid overfitting\n",
    "                        for k in range(K):\n",
    "                            se = se + (regularization / 2) * (pow(U[i][k],2) + pow(M[k][j],2))\n",
    "        result.append(se)\n",
    "        if se < 0.001:\n",
    "            break\n",
    "    print('---Finish Matrix Factorization---')\n",
    "    return U, M.T, result,se"
   ],
   "outputs": [],
   "metadata": {}
  },
  {
   "cell_type": "code",
   "execution_count": null,
   "source": [
    "random.seed(123)\n",
    "ratings = pd.read_csv('ml-1m/ratings.dat', engine='python', sep='::', names=['UserID', 'MovieID', 'Rating', 'timestamp'])\n",
    "kf = KFold(n_splits=5, shuffle=True)\n",
    "X = ratings[[\"UserID\", \"Rating\", \"MovieID\"]]\n",
    "y = ratings[\"Rating\"]\n",
    "rmse=[]\n",
    "\n",
    "for train_index, test_index in kf.split(X):\n",
    "    print(\"TRAIN:\", train_index, \"TEST:\", test_index)\n",
    "    X_train, X_test = X.loc[train_index], X.loc[test_index]\n",
    "    y_train, y_test = y.loc[train_index], y.loc[test_index]\n",
    "    X_train = pd.DataFrame(X_train)\n",
    "    X_test = pd.DataFrame(X_test)\n",
    "    y_train = pd.DataFrame(y_train)\n",
    "    y_test = pd.DataFrame(y_test)\n",
    "    R_df = X_train.pivot(index = 'UserID', columns ='MovieID', values = 'Rating', ).fillna(0)\n",
    "    \n",
    "    user_mean = R_df.mean(axis=1)\n",
    "    R = R_df.to_numpy()\n",
    "    user_mean = user_mean.to_numpy()\n",
    "    normalized = R - user_mean.reshape(-1,1)\n",
    "    userids = R_df.index\n",
    "    movieids = R_df.columns\n",
    "   \n",
    "\n",
    "    userNum = R.shape[0]\n",
    "    movieNum = R.shape[1]\n",
    "\n",
    "    # set the number of hidden factors\n",
    "    K = 10\n",
    "    np.random.seed = time.time() * 256\n",
    "    userMatrix = np.random.rand(userNum, K)\n",
    "    np.random.seed = time.time() * 256\n",
    "    movieMatrix = np.random.rand(movieNum, K)\n",
    "\n",
    "    newUserMatrix, newMovieMatrix, result, error = matrixFactorization(R, userMatrix, movieMatrix, K)\n",
    "   \n",
    "    print('----Orignal dataset---\\n', R)\n",
    "    ratingMF = np.dot(newUserMatrix, newMovieMatrix.T)\n",
    "    print('---Rating matrix after MF algorithm---\\n', ratingMF)\n",
    "    predicted = pd.DataFrame(ratingMF)\n",
    "    print('Error:',error)\n",
    "    rmse.append(error)\n",
    "    print('Result:', result)"
   ],
   "outputs": [
    {
     "output_type": "stream",
     "name": "stdout",
     "text": [
      "TRAIN: [      0       1       2 ... 1000204 1000206 1000207] TEST: [      8       9      23 ... 1000200 1000205 1000208]\n",
      "---Executing Matrix Factorization---\n",
      "---the 0 times iteration---\n",
      "---the 1 times iteration---\n",
      "---the 2 times iteration---\n",
      "---the 3 times iteration---\n",
      "---the 4 times iteration---\n",
      "---the 5 times iteration---\n",
      "---the 6 times iteration---\n",
      "---the 7 times iteration---\n"
     ]
    }
   ],
   "metadata": {
    "scrolled": true
   }
  }
 ],
 "metadata": {
  "kernelspec": {
   "display_name": "Python 3 (ipykernel)",
   "language": "python",
   "name": "python3"
  },
  "language_info": {
   "codemirror_mode": {
    "name": "ipython",
    "version": 3
   },
   "file_extension": ".py",
   "mimetype": "text/x-python",
   "name": "python",
   "nbconvert_exporter": "python",
   "pygments_lexer": "ipython3",
   "version": "3.8.12"
  }
 },
 "nbformat": 4,
 "nbformat_minor": 5
}